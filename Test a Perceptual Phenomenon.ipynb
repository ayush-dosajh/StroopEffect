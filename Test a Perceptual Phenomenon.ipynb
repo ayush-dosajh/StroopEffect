{
 "cells": [
  {
   "cell_type": "markdown",
   "metadata": {},
   "source": [
    "### Analyzing the Stroop Effect\n",
    "<p>\n",
    "the Stroop effect is a demonstration of interference in the reaction time of a task. When the name of a color (e.g., \"blue\", \"green\", or \"red\") is printed in a color that is not denoted by the name (e.g., the word \"red\" printed in blue ink instead of red ink), naming the color of the word takes longer and is more prone to errors than when the color of the ink matches the name of the color. The effect is named after John Ridley Stroop, who first published the effect in English in 1935. (for more info - https://en.wikipedia.org/wiki/Stroop_effect)</p>\n",
    "\n",
    "\n",
    "\n",
    "<p>\n",
    "<h5>\n",
    "This project Aims to Analyze Stroop effect and put forward some basic satistics, accept or reject a null hypothesis using infrential stastistics and also aid findings via visualization.\n",
    "</h5>\n",
    "</p>\n",
    "\n",
    "<h5>(1) What is the independent variable? What is the dependent variable?</h5>"
   ]
  },
  {
   "cell_type": "markdown",
   "metadata": {},
   "source": [
    "Independent variable - The condition of stroop effect(ink and words are same or diffrent)\n",
    "\n",
    "Dependent variable - Time taken to identify (congruent or incongruent words)."
   ]
  },
  {
   "cell_type": "markdown",
   "metadata": {},
   "source": [
    "<h5>(2) What is an appropriate set of hypotheses for this task? What kind of statistical test do you expect to perform? Justify your choices.</h5>"
   ]
  },
  {
   "cell_type": "markdown",
   "metadata": {},
   "source": [
    "(a)\n",
    "\n",
    "<h5>Null hypothesis H0 = \"The  diffrence in mean time taken to identify independent variable is of no significance\".</h5>\n",
    "\n",
    "ie H0: μcongruent  = μincongruent\n",
    "\n",
    "μcongruent=mean time to identify congruent words\n",
    "\n",
    "μcongruent=mean time to identify Incongruent words\n",
    "\n",
    "<h5>Alternate hypothesis H1 = \"The mean reaction time under the congruent word condition is lower than the Incgruent word condition\"</h5>\n",
    "\n",
    "ie. H1: μcongruent  < μincongruent\n",
    "\n",
    "μcongruent = mean time to identify congruent words\n",
    "\n",
    "μcongruent = mean time to identify congruent words\n",
    "\n",
    "\n",
    "\n",
    "(b)\n",
    "\n",
    "<h5>t-test is used to assert the hypothesis ie to either prove or deny the statistical significance of dependent variable (ie to assert that the change due to indepent variable on dependent variable is solid and not a mere chance). </h5>\n",
    "\n",
    "1 - we have 24 samples (data is small in size )\n",
    "\n",
    "2 - variance and standard daviation is not known\n",
    "\n",
    "3 - The participants are asked to take both congruent and incongruent test\n",
    "\n",
    "Here as each sample is undergoing two diffrent conditions (congruent and incongruent ) hence one sample paired t-test is to be preformed."
   ]
  },
  {
   "cell_type": "markdown",
   "metadata": {},
   "source": [
    "<h5>(3) Discriptive statistics (Both Central tendancy and variability).</h5>"
   ]
  },
  {
   "cell_type": "code",
   "execution_count": 13,
   "metadata": {
    "scrolled": true
   },
   "outputs": [
    {
     "name": "stdout",
     "output_type": "stream",
     "text": [
      "Mean of congruent data \n",
      "14.051125000000004\n",
      "\n",
      "Mean of Incongruent data \n",
      "22.01591666666667\n",
      "\n",
      "Standard daviation of congruent data \n",
      "3.559357957645195\n",
      "\n",
      "Standard daviation of Incongruent data \n",
      "4.797057122469138\n"
     ]
    }
   ],
   "source": [
    "# Perform the analysis here\n",
    "import pandas as pd\n",
    "import matplotlib.pyplot  as plot\n",
    "from scipy import stats\n",
    "\n",
    "stroopdata =pd.read_csv('stroopdata.csv')\n",
    "avgcgnt = stroopdata['Congruent'].mean()\n",
    "print('Mean of congruent data ')\n",
    "print(avgcgnt) \n",
    "\n",
    "avgincgnt = stroopdata['Incongruent'].mean()\n",
    "print('\\nMean of Incongruent data ')\n",
    "print(avgincgnt)\n",
    "\n",
    "\n",
    "#measure of vareability using standard daviation.\n",
    "print('\\nStandard daviation of congruent data ')\n",
    "stdcongruent = stroopdata['Congruent'].std()\n",
    "print(stdcongruent)\n",
    "\n",
    "print('\\nStandard daviation of Incongruent data ')\n",
    "stdIncongruent = stroopdata['Incongruent'].std()\n",
    "print(stdIncongruent)\n",
    "\n",
    "\n",
    "\n",
    "\n",
    "\n",
    "\n",
    "\n",
    "\n",
    "\n"
   ]
  },
  {
   "cell_type": "markdown",
   "metadata": {},
   "source": [
    "<p>Central tendency\n",
    "\n",
    "Mean of congruent data \n",
    "14.051125\n",
    "\n",
    "Mean of Incongruent data \n",
    "22.0159166667\n",
    "\n",
    "\n",
    "<p>\n",
    "Variability \n",
    "\n",
    "Standard daviation of congruent data \n",
    "3.55935795765\n",
    "\n",
    "Standard daviation of Incongruent data \n",
    "4.79705712247\n"
   ]
  },
  {
   "cell_type": "markdown",
   "metadata": {},
   "source": [
    "<h5>(4) Visualizations Here</h5>"
   ]
  },
  {
   "cell_type": "code",
   "execution_count": 17,
   "metadata": {},
   "outputs": [
    {
     "data": {
      "image/png": "[encoded data removed]",
      "text/plain": [
       "<matplotlib.figure.Figure at 0x1e364c975f8>"
      ]
     },
     "metadata": {},
     "output_type": "display_data"
    },
    {
     "data": {
      "image/png": "[encoded data removed]",
      "text/plain": [
       "<matplotlib.figure.Figure at 0x1e3645b8ac8>"
      ]
     },
     "metadata": {},
     "output_type": "display_data"
    }
   ],
   "source": [
    "# Build the visualizations here\n",
    "\n",
    " \n",
    "stroopdata.boxplot() #box plot\n",
    "plot.xlabel('word condition/Independent variable')\n",
    "plot.ylabel('Response time in seconds')\n",
    "plot.show()\n",
    "\n",
    "\n",
    "stroopdata.plot(kind = 'bar') #bargraph\n",
    "plot.xlabel('samples')\n",
    "plot.ylabel('Response time in seconds')\n",
    "plot.show()\n"
   ]
  },
  {
   "cell_type": "markdown",
   "metadata": {},
   "source": [
    "The box plot clearly dipicts that incongruent words consume more time than congruent words(y axis is time) The bar graph helps illustrate that for each person (sample) incongruent words take more time than the congruent words."
   ]
  },
  {
   "cell_type": "markdown",
   "metadata": {},
   "source": [
    "<h5>(5)Infrential statistics using t-test to asser or deny null hypothesis</h5>"
   ]
  },
  {
   "cell_type": "code",
   "execution_count": 15,
   "metadata": {},
   "outputs": [
    {
     "data": {
      "text/plain": [
       "Ttest_relResult(statistic=-8.020706944109957, pvalue=4.1030005857111781e-08)"
      ]
     },
     "execution_count": 15,
     "metadata": {},
     "output_type": "execute_result"
    }
   ],
   "source": [
    "# Perform the statistical test here\n",
    "cong = stroopdata['Congruent']\n",
    "incong =  stroopdata ['Incongruent']\n",
    "\n",
    "stats.ttest_rel(cong , incong)#paired two tailed t-test. \n"
   ]
  },
  {
   "cell_type": "markdown",
   "metadata": {},
   "source": [
    "### p value = 4.1030005857111781e-08 which nears 0 and is less than crtitical p value ie 0.05 . hence we could reject the null hypothesis (h0) and it could be said that.The  mean time taken to identify independent variable signifies that congurent word condition takes less time to identify than incongruent word condition. This result is within my expectations as i too got the same results when i took the test.\n"
   ]
  }
 ],
 "metadata": {
  "celltoolbar": "Attachments",
  "kernelspec": {
   "display_name": "Python 3",
   "language": "python",
   "name": "python3"
  },
  "language_info": {
   "codemirror_mode": {
    "name": "ipython",
    "version": 3
   },
   "file_extension": ".py",
   "mimetype": "text/x-python",
   "name": "python",
   "nbconvert_exporter": "python",
   "pygments_lexer": "ipython3",
   "version": "3.6.2"
  }
 },
 "nbformat": 4,
 "nbformat_minor": 2
}
